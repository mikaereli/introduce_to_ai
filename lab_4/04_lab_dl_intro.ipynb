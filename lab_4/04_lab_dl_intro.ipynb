{
 "cells": [
  {
   "cell_type": "code",
   "execution_count": 1,
   "metadata": {
    "_cell_guid": "b1076dfc-b9ad-4769-8c92-a6c4dae69d19",
    "_uuid": "8f2839f25d086af736a60e9eeb907d3b93b6e0e5",
    "execution": {
     "iopub.execute_input": "2024-10-27T16:25:09.703071Z",
     "iopub.status.busy": "2024-10-27T16:25:09.702565Z",
     "iopub.status.idle": "2024-10-27T16:25:09.710446Z",
     "shell.execute_reply": "2024-10-27T16:25:09.709249Z",
     "shell.execute_reply.started": "2024-10-27T16:25:09.703030Z"
    },
    "trusted": true
   },
   "outputs": [],
   "source": [
    "import numpy as np\n",
    "import pandas as pd\n",
    "from sklearn.preprocessing import StandardScaler\n",
    "from sklearn.model_selection import train_test_split\n",
    "from sklearn.metrics import accuracy_score, roc_auc_score, f1_score, precision_recall_curve, roc_curve, auc\n",
    "import matplotlib.pyplot as plt\n",
    "import torch\n",
    "import torch.nn as nn\n",
    "import torch.nn.functional as F\n",
    "import torch.optim as optim\n",
    "from torch.utils.data import Dataset, DataLoader\n",
    "import matplotlib.pyplot as plt"
   ]
  },
  {
   "cell_type": "markdown",
   "metadata": {},
   "source": [
    "### Препроцесс данных"
   ]
  },
  {
   "cell_type": "code",
   "execution_count": 2,
   "metadata": {
    "execution": {
     "iopub.execute_input": "2024-10-27T16:25:09.712896Z",
     "iopub.status.busy": "2024-10-27T16:25:09.712460Z",
     "iopub.status.idle": "2024-10-27T16:25:09.724500Z",
     "shell.execute_reply": "2024-10-27T16:25:09.723398Z",
     "shell.execute_reply.started": "2024-10-27T16:25:09.712851Z"
    },
    "trusted": true
   },
   "outputs": [],
   "source": [
    "device = \"cuda\" if torch.cuda.is_available() else \"cpu\""
   ]
  },
  {
   "cell_type": "code",
   "execution_count": 3,
   "metadata": {
    "execution": {
     "iopub.execute_input": "2024-10-27T16:25:09.726665Z",
     "iopub.status.busy": "2024-10-27T16:25:09.726198Z",
     "iopub.status.idle": "2024-10-27T16:25:09.740932Z",
     "shell.execute_reply": "2024-10-27T16:25:09.739974Z",
     "shell.execute_reply.started": "2024-10-27T16:25:09.726615Z"
    },
    "trusted": true
   },
   "outputs": [],
   "source": [
    "df = pd.read_csv('JobSurveyIndia.csv')"
   ]
  },
  {
   "cell_type": "code",
   "execution_count": 4,
   "metadata": {
    "execution": {
     "iopub.execute_input": "2024-10-27T16:25:09.742470Z",
     "iopub.status.busy": "2024-10-27T16:25:09.742097Z",
     "iopub.status.idle": "2024-10-27T16:25:09.751205Z",
     "shell.execute_reply": "2024-10-27T16:25:09.750188Z",
     "shell.execute_reply.started": "2024-10-27T16:25:09.742435Z"
    },
    "trusted": true
   },
   "outputs": [
    {
     "data": {
      "text/plain": [
       "Unnamed: 0               0\n",
       "Employment Sector        0\n",
       "Employment Background    0\n",
       "Public Dealing           0\n",
       "Degree                   0\n",
       "IdealNumberOfWorkdays    0\n",
       "IdealYearlyIncome        0\n",
       "dtype: int64"
      ]
     },
     "execution_count": 4,
     "metadata": {},
     "output_type": "execute_result"
    }
   ],
   "source": [
    "df.isna().sum()"
   ]
  },
  {
   "cell_type": "code",
   "execution_count": 5,
   "metadata": {
    "execution": {
     "iopub.execute_input": "2024-10-27T16:25:09.754045Z",
     "iopub.status.busy": "2024-10-27T16:25:09.753643Z",
     "iopub.status.idle": "2024-10-27T16:25:09.761027Z",
     "shell.execute_reply": "2024-10-27T16:25:09.759958Z",
     "shell.execute_reply.started": "2024-10-27T16:25:09.754009Z"
    },
    "trusted": true
   },
   "outputs": [],
   "source": [
    "df = df.drop('Unnamed: 0', axis=1)"
   ]
  },
  {
   "cell_type": "code",
   "execution_count": 6,
   "metadata": {
    "execution": {
     "iopub.execute_input": "2024-10-27T16:25:09.762987Z",
     "iopub.status.busy": "2024-10-27T16:25:09.762523Z",
     "iopub.status.idle": "2024-10-27T16:25:09.781926Z",
     "shell.execute_reply": "2024-10-27T16:25:09.780862Z",
     "shell.execute_reply.started": "2024-10-27T16:25:09.762939Z"
    },
    "trusted": true
   },
   "outputs": [
    {
     "data": {
      "text/html": [
       "<div>\n",
       "<style scoped>\n",
       "    .dataframe tbody tr th:only-of-type {\n",
       "        vertical-align: middle;\n",
       "    }\n",
       "\n",
       "    .dataframe tbody tr th {\n",
       "        vertical-align: top;\n",
       "    }\n",
       "\n",
       "    .dataframe thead th {\n",
       "        text-align: right;\n",
       "    }\n",
       "</style>\n",
       "<table border=\"1\" class=\"dataframe\">\n",
       "  <thead>\n",
       "    <tr style=\"text-align: right;\">\n",
       "      <th></th>\n",
       "      <th>Employment Sector</th>\n",
       "      <th>Employment Background</th>\n",
       "      <th>Public Dealing</th>\n",
       "      <th>Degree</th>\n",
       "      <th>IdealNumberOfWorkdays</th>\n",
       "      <th>IdealYearlyIncome</th>\n",
       "    </tr>\n",
       "  </thead>\n",
       "  <tbody>\n",
       "    <tr>\n",
       "      <th>0</th>\n",
       "      <td>Private Sector</td>\n",
       "      <td>Technical</td>\n",
       "      <td>No</td>\n",
       "      <td>Yes</td>\n",
       "      <td>4.0</td>\n",
       "      <td>More Than 1500K</td>\n",
       "    </tr>\n",
       "    <tr>\n",
       "      <th>1</th>\n",
       "      <td>Private Sector</td>\n",
       "      <td>Art</td>\n",
       "      <td>No</td>\n",
       "      <td>Yes</td>\n",
       "      <td>4.0</td>\n",
       "      <td>600K-900K</td>\n",
       "    </tr>\n",
       "    <tr>\n",
       "      <th>2</th>\n",
       "      <td>Government Sector</td>\n",
       "      <td>Technical</td>\n",
       "      <td>No</td>\n",
       "      <td>Yes</td>\n",
       "      <td>6.0</td>\n",
       "      <td>900K-1200K</td>\n",
       "    </tr>\n",
       "    <tr>\n",
       "      <th>3</th>\n",
       "      <td>Government Sector</td>\n",
       "      <td>Non-Technical</td>\n",
       "      <td>Yes</td>\n",
       "      <td>Yes</td>\n",
       "      <td>4.0</td>\n",
       "      <td>900K-1200K</td>\n",
       "    </tr>\n",
       "    <tr>\n",
       "      <th>4</th>\n",
       "      <td>Private Sector</td>\n",
       "      <td>Technical</td>\n",
       "      <td>No</td>\n",
       "      <td>Yes</td>\n",
       "      <td>5.0</td>\n",
       "      <td>1200K-1500K</td>\n",
       "    </tr>\n",
       "  </tbody>\n",
       "</table>\n",
       "</div>"
      ],
      "text/plain": [
       "   Employment Sector Employment Background Public Dealing Degree  \\\n",
       "0     Private Sector             Technical             No    Yes   \n",
       "1     Private Sector                  Art             No    Yes    \n",
       "2  Government Sector             Technical             No    Yes   \n",
       "3  Government Sector         Non-Technical            Yes   Yes    \n",
       "4     Private Sector             Technical             No    Yes   \n",
       "\n",
       "   IdealNumberOfWorkdays IdealYearlyIncome  \n",
       "0                    4.0   More Than 1500K  \n",
       "1                    4.0         600K-900K  \n",
       "2                    6.0        900K-1200K  \n",
       "3                    4.0        900K-1200K  \n",
       "4                    5.0       1200K-1500K  "
      ]
     },
     "execution_count": 6,
     "metadata": {},
     "output_type": "execute_result"
    }
   ],
   "source": [
    "df.head()"
   ]
  },
  {
   "cell_type": "code",
   "execution_count": 7,
   "metadata": {
    "execution": {
     "iopub.execute_input": "2024-10-27T16:25:09.783585Z",
     "iopub.status.busy": "2024-10-27T16:25:09.783227Z",
     "iopub.status.idle": "2024-10-27T16:25:09.798389Z",
     "shell.execute_reply": "2024-10-27T16:25:09.797191Z",
     "shell.execute_reply.started": "2024-10-27T16:25:09.783549Z"
    },
    "trusted": true
   },
   "outputs": [
    {
     "data": {
      "text/html": [
       "<div>\n",
       "<style scoped>\n",
       "    .dataframe tbody tr th:only-of-type {\n",
       "        vertical-align: middle;\n",
       "    }\n",
       "\n",
       "    .dataframe tbody tr th {\n",
       "        vertical-align: top;\n",
       "    }\n",
       "\n",
       "    .dataframe thead th {\n",
       "        text-align: right;\n",
       "    }\n",
       "</style>\n",
       "<table border=\"1\" class=\"dataframe\">\n",
       "  <thead>\n",
       "    <tr style=\"text-align: right;\">\n",
       "      <th></th>\n",
       "      <th>IdealNumberOfWorkdays</th>\n",
       "    </tr>\n",
       "  </thead>\n",
       "  <tbody>\n",
       "    <tr>\n",
       "      <th>count</th>\n",
       "      <td>400.000000</td>\n",
       "    </tr>\n",
       "    <tr>\n",
       "      <th>mean</th>\n",
       "      <td>4.902500</td>\n",
       "    </tr>\n",
       "    <tr>\n",
       "      <th>std</th>\n",
       "      <td>0.805989</td>\n",
       "    </tr>\n",
       "    <tr>\n",
       "      <th>min</th>\n",
       "      <td>4.000000</td>\n",
       "    </tr>\n",
       "    <tr>\n",
       "      <th>25%</th>\n",
       "      <td>4.000000</td>\n",
       "    </tr>\n",
       "    <tr>\n",
       "      <th>50%</th>\n",
       "      <td>5.000000</td>\n",
       "    </tr>\n",
       "    <tr>\n",
       "      <th>75%</th>\n",
       "      <td>5.000000</td>\n",
       "    </tr>\n",
       "    <tr>\n",
       "      <th>max</th>\n",
       "      <td>7.000000</td>\n",
       "    </tr>\n",
       "  </tbody>\n",
       "</table>\n",
       "</div>"
      ],
      "text/plain": [
       "       IdealNumberOfWorkdays\n",
       "count             400.000000\n",
       "mean                4.902500\n",
       "std                 0.805989\n",
       "min                 4.000000\n",
       "25%                 4.000000\n",
       "50%                 5.000000\n",
       "75%                 5.000000\n",
       "max                 7.000000"
      ]
     },
     "execution_count": 7,
     "metadata": {},
     "output_type": "execute_result"
    }
   ],
   "source": [
    "df.describe()"
   ]
  },
  {
   "cell_type": "code",
   "execution_count": 8,
   "metadata": {
    "execution": {
     "iopub.execute_input": "2024-10-27T16:25:09.800264Z",
     "iopub.status.busy": "2024-10-27T16:25:09.799809Z",
     "iopub.status.idle": "2024-10-27T16:25:09.806478Z",
     "shell.execute_reply": "2024-10-27T16:25:09.805395Z",
     "shell.execute_reply.started": "2024-10-27T16:25:09.800215Z"
    },
    "trusted": true
   },
   "outputs": [],
   "source": [
    "def preproc_cat_features(sample):\n",
    "    tok2id = {elem: idx for idx, elem in enumerate(sample.unique())}\n",
    "    return sample.map(tok2id)"
   ]
  },
  {
   "cell_type": "code",
   "execution_count": 9,
   "metadata": {
    "execution": {
     "iopub.execute_input": "2024-10-27T16:25:09.808875Z",
     "iopub.status.busy": "2024-10-27T16:25:09.808055Z",
     "iopub.status.idle": "2024-10-27T16:25:09.827766Z",
     "shell.execute_reply": "2024-10-27T16:25:09.826465Z",
     "shell.execute_reply.started": "2024-10-27T16:25:09.808826Z"
    },
    "trusted": true
   },
   "outputs": [],
   "source": [
    "df['Employment Sector'] = preproc_cat_features(df['Employment Sector'])\n",
    "df['Employment Background'] = preproc_cat_features(df['Employment Background'])\n",
    "df['Public Dealing'] = preproc_cat_features(df['Public Dealing'])\n",
    "df['Degree'] = preproc_cat_features(df['Degree'])\n",
    "scaler = StandardScaler()\n",
    "df['IdealNumberOfWorkdays'] = scaler.fit_transform(df[['IdealNumberOfWorkdays']])\n",
    "df['IdealYearlyIncome'] = preproc_cat_features(df['IdealYearlyIncome'])"
   ]
  },
  {
   "cell_type": "code",
   "execution_count": 10,
   "metadata": {
    "execution": {
     "iopub.execute_input": "2024-10-27T16:25:09.829761Z",
     "iopub.status.busy": "2024-10-27T16:25:09.829281Z",
     "iopub.status.idle": "2024-10-27T16:25:09.840442Z",
     "shell.execute_reply": "2024-10-27T16:25:09.839193Z",
     "shell.execute_reply.started": "2024-10-27T16:25:09.829696Z"
    },
    "trusted": true
   },
   "outputs": [
    {
     "data": {
      "text/plain": [
       "4"
      ]
     },
     "execution_count": 10,
     "metadata": {},
     "output_type": "execute_result"
    }
   ],
   "source": [
    "len(list(df['IdealYearlyIncome'].unique()))"
   ]
  },
  {
   "cell_type": "code",
   "execution_count": 11,
   "metadata": {
    "execution": {
     "iopub.execute_input": "2024-10-27T16:25:09.842287Z",
     "iopub.status.busy": "2024-10-27T16:25:09.841903Z",
     "iopub.status.idle": "2024-10-27T16:25:09.854090Z",
     "shell.execute_reply": "2024-10-27T16:25:09.853001Z",
     "shell.execute_reply.started": "2024-10-27T16:25:09.842242Z"
    },
    "trusted": true
   },
   "outputs": [],
   "source": [
    "targets = df['IdealYearlyIncome']\n",
    "df = df.drop('IdealYearlyIncome', axis=1)\n",
    "train_X, val_X, train_y, val_y = train_test_split(df, targets, test_size=.2)"
   ]
  },
  {
   "cell_type": "code",
   "execution_count": 12,
   "metadata": {
    "execution": {
     "iopub.execute_input": "2024-10-27T16:25:09.911659Z",
     "iopub.status.busy": "2024-10-27T16:25:09.911223Z",
     "iopub.status.idle": "2024-10-27T16:25:09.918599Z",
     "shell.execute_reply": "2024-10-27T16:25:09.917383Z",
     "shell.execute_reply.started": "2024-10-27T16:25:09.911619Z"
    },
    "trusted": true
   },
   "outputs": [],
   "source": [
    "class CustomDataset(Dataset):\n",
    "    def __init__(self, features, targets):\n",
    "        self.features = torch.tensor(features.values, dtype=torch.float32)\n",
    "        self.targets = torch.tensor(targets.values, dtype=torch.long)\n",
    "    \n",
    "    def __len__(self):\n",
    "        return len(self.targets)\n",
    "    \n",
    "    def __getitem__(self, idx):\n",
    "        return self.features[idx], self.targets[idx]"
   ]
  },
  {
   "cell_type": "code",
   "execution_count": 13,
   "metadata": {
    "execution": {
     "iopub.execute_input": "2024-10-27T16:25:09.921583Z",
     "iopub.status.busy": "2024-10-27T16:25:09.921025Z",
     "iopub.status.idle": "2024-10-27T16:25:09.932882Z",
     "shell.execute_reply": "2024-10-27T16:25:09.931763Z",
     "shell.execute_reply.started": "2024-10-27T16:25:09.921524Z"
    },
    "trusted": true
   },
   "outputs": [],
   "source": [
    "train_dataset = CustomDataset(train_X, train_y)\n",
    "test_dataset = CustomDataset(val_X, val_y)\n",
    "train_loader = DataLoader(train_dataset, batch_size=16, shuffle=True)\n",
    "test_loader = DataLoader(test_dataset, batch_size=16)"
   ]
  },
  {
   "cell_type": "markdown",
   "metadata": {},
   "source": [
    "### Простая модель с SGD"
   ]
  },
  {
   "cell_type": "code",
   "execution_count": 14,
   "metadata": {
    "execution": {
     "iopub.execute_input": "2024-10-27T16:25:09.934993Z",
     "iopub.status.busy": "2024-10-27T16:25:09.934148Z",
     "iopub.status.idle": "2024-10-27T16:25:09.945484Z",
     "shell.execute_reply": "2024-10-27T16:25:09.944305Z",
     "shell.execute_reply.started": "2024-10-27T16:25:09.934943Z"
    },
    "trusted": true
   },
   "outputs": [],
   "source": [
    "class SimpleNN(nn.Module):\n",
    "    def __init__(self, input_dim, output_dim):\n",
    "        super(SimpleNN, self).__init__()\n",
    "        self.fc = nn.Linear(input_dim, output_dim)\n",
    "    \n",
    "    def forward(self, x):\n",
    "        return self.fc(x)"
   ]
  },
  {
   "cell_type": "markdown",
   "metadata": {},
   "source": [
    "### Модель с 1 слоем (скрытым)"
   ]
  },
  {
   "cell_type": "code",
   "execution_count": 15,
   "metadata": {
    "execution": {
     "iopub.execute_input": "2024-10-27T16:25:09.947100Z",
     "iopub.status.busy": "2024-10-27T16:25:09.946709Z",
     "iopub.status.idle": "2024-10-27T16:25:09.955484Z",
     "shell.execute_reply": "2024-10-27T16:25:09.954443Z",
     "shell.execute_reply.started": "2024-10-27T16:25:09.947044Z"
    },
    "trusted": true
   },
   "outputs": [],
   "source": [
    "class HiddenLayerNN(nn.Module):\n",
    "    def __init__(self, input_dim, hidden_dim, output_dim):\n",
    "        super(HiddenLayerNN, self).__init__()\n",
    "        self.fc1 = nn.Linear(input_dim, hidden_dim)\n",
    "        self.fc2 = nn.Linear(hidden_dim, output_dim)\n",
    "    \n",
    "    def forward(self, x):\n",
    "        x = torch.relu(self.fc1(x))\n",
    "        return self.fc2(x)"
   ]
  },
  {
   "cell_type": "markdown",
   "metadata": {},
   "source": [
    "### 3+ скрытых слоев"
   ]
  },
  {
   "cell_type": "code",
   "execution_count": 16,
   "metadata": {
    "execution": {
     "iopub.execute_input": "2024-10-27T16:25:09.958376Z",
     "iopub.status.busy": "2024-10-27T16:25:09.958017Z",
     "iopub.status.idle": "2024-10-27T16:25:09.967879Z",
     "shell.execute_reply": "2024-10-27T16:25:09.966786Z",
     "shell.execute_reply.started": "2024-10-27T16:25:09.958340Z"
    },
    "trusted": true
   },
   "outputs": [],
   "source": [
    "class DeepNN(nn.Module):\n",
    "    def __init__(self, input_dim, hidden_dim, output_dim):\n",
    "        super(DeepNN, self).__init__()\n",
    "        self.fc1 = nn.Linear(input_dim, hidden_dim)\n",
    "        self.fc2 = nn.Linear(hidden_dim, hidden_dim)\n",
    "        self.fc3 = nn.Linear(hidden_dim, hidden_dim)\n",
    "        self.fc4 = nn.Linear(hidden_dim, output_dim)\n",
    "    \n",
    "    def forward(self, x):\n",
    "        x = torch.relu(self.fc1(x))\n",
    "        x = torch.relu(self.fc2(x))\n",
    "        x = torch.relu(self.fc3(x))\n",
    "        return self.fc4(x)"
   ]
  },
  {
   "cell_type": "markdown",
   "metadata": {},
   "source": [
    "### Обучение моделей"
   ]
  },
  {
   "cell_type": "code",
   "execution_count": 17,
   "metadata": {
    "execution": {
     "iopub.execute_input": "2024-10-27T16:25:09.969602Z",
     "iopub.status.busy": "2024-10-27T16:25:09.969216Z",
     "iopub.status.idle": "2024-10-27T16:25:09.981213Z",
     "shell.execute_reply": "2024-10-27T16:25:09.979882Z",
     "shell.execute_reply.started": "2024-10-27T16:25:09.969566Z"
    },
    "trusted": true
   },
   "outputs": [],
   "source": [
    "def train_model(model, train_loader, test_loader, criterion, optimizer, epochs=10):\n",
    "    train_losses, test_losses = [], []\n",
    "    train_accuracies, test_accuracies = [], []\n",
    "\n",
    "    for epoch in range(epochs):\n",
    "        model.train()\n",
    "        epoch_loss = 0.0\n",
    "        for features, targets in train_loader:\n",
    "            optimizer.zero_grad()\n",
    "            outputs = model(features)\n",
    "            loss = criterion(outputs, targets)\n",
    "            loss.backward()\n",
    "            optimizer.step()\n",
    "            epoch_loss += loss.item()\n",
    "\n",
    "        model.eval()\n",
    "        correct_train, total_train = 0, 0\n",
    "        correct_test, total_test = 0, 0\n",
    "        \n",
    "        with torch.no_grad():\n",
    "            for features, targets in train_loader:\n",
    "                outputs = model(features)\n",
    "                _, predicted = torch.max(outputs, 1)\n",
    "                total_train += targets.size(0)\n",
    "                correct_train += (predicted == targets).sum().item()\n",
    "            train_accuracy = correct_train / total_train\n",
    "            train_losses.append(epoch_loss / len(train_loader))\n",
    "            train_accuracies.append(train_accuracy)\n",
    "\n",
    "            for features, targets in test_loader:\n",
    "                outputs = model(features)\n",
    "                _, predicted = torch.max(outputs, 1)\n",
    "                total_test += targets.size(0)\n",
    "                correct_test += (predicted == targets).sum().item()\n",
    "            test_accuracy = correct_test / total_test\n",
    "            test_losses.append(loss.item())\n",
    "            test_accuracies.append(test_accuracy)\n",
    "\n",
    "        print(f'Epoch {epoch+1}/{epochs}, Loss: {epoch_loss / len(train_loader):.4f}, '\n",
    "              f'Train Accuracy: {train_accuracy:.4f}, Test Accuracy: {test_accuracy:.4f}')\n",
    "\n",
    "    return train_losses, test_losses, train_accuracies, test_accuracies"
   ]
  },
  {
   "cell_type": "code",
   "execution_count": 18,
   "metadata": {
    "execution": {
     "iopub.execute_input": "2024-10-27T16:25:09.983045Z",
     "iopub.status.busy": "2024-10-27T16:25:09.982643Z",
     "iopub.status.idle": "2024-10-27T16:25:09.995889Z",
     "shell.execute_reply": "2024-10-27T16:25:09.994710Z",
     "shell.execute_reply.started": "2024-10-27T16:25:09.983008Z"
    },
    "trusted": true
   },
   "outputs": [],
   "source": [
    "input_dim = train_X.shape[1]\n",
    "output_dim = len(set(train_y))\n",
    "hidden_dim = 64"
   ]
  },
  {
   "cell_type": "code",
   "execution_count": 19,
   "metadata": {
    "execution": {
     "iopub.execute_input": "2024-10-27T16:25:09.997774Z",
     "iopub.status.busy": "2024-10-27T16:25:09.997388Z",
     "iopub.status.idle": "2024-10-27T16:25:10.009425Z",
     "shell.execute_reply": "2024-10-27T16:25:10.008362Z",
     "shell.execute_reply.started": "2024-10-27T16:25:09.997710Z"
    },
    "trusted": true
   },
   "outputs": [],
   "source": [
    "simple_nn = SimpleNN(input_dim, output_dim)\n",
    "hidden_layer_nn = HiddenLayerNN(input_dim, hidden_dim, output_dim)\n",
    "deep_nn = DeepNN(input_dim, hidden_dim, output_dim)\n",
    "optimizer_sgd = optim.SGD(simple_nn.parameters(), lr=0.01)\n",
    "optimizer_adam = optim.Adam(hidden_layer_nn.parameters(), lr=0.001)\n",
    "optimizer_adam_deep = optim.Adam(deep_nn.parameters(), lr=0.001)\n",
    "criterion = nn.CrossEntropyLoss()"
   ]
  },
  {
   "cell_type": "code",
   "execution_count": 20,
   "metadata": {
    "execution": {
     "iopub.execute_input": "2024-10-27T16:25:10.011607Z",
     "iopub.status.busy": "2024-10-27T16:25:10.011147Z",
     "iopub.status.idle": "2024-10-27T16:25:10.949225Z",
     "shell.execute_reply": "2024-10-27T16:25:10.948108Z",
     "shell.execute_reply.started": "2024-10-27T16:25:10.011552Z"
    },
    "trusted": true
   },
   "outputs": [
    {
     "name": "stdout",
     "output_type": "stream",
     "text": [
      "Первая модель\n",
      "Epoch 1/10, Loss: 1.6142, Train Accuracy: 0.1594, Test Accuracy: 0.0500\n",
      "Epoch 2/10, Loss: 1.5021, Train Accuracy: 0.2062, Test Accuracy: 0.1250\n",
      "Epoch 3/10, Loss: 1.4360, Train Accuracy: 0.2313, Test Accuracy: 0.3250\n",
      "Epoch 4/10, Loss: 1.3942, Train Accuracy: 0.2313, Test Accuracy: 0.3250\n",
      "Epoch 5/10, Loss: 1.3662, Train Accuracy: 0.3000, Test Accuracy: 0.4250\n",
      "Epoch 6/10, Loss: 1.3450, Train Accuracy: 0.3312, Test Accuracy: 0.4250\n",
      "Epoch 7/10, Loss: 1.3278, Train Accuracy: 0.3531, Test Accuracy: 0.4375\n",
      "Epoch 8/10, Loss: 1.3125, Train Accuracy: 0.3563, Test Accuracy: 0.4500\n",
      "Epoch 9/10, Loss: 1.2994, Train Accuracy: 0.3750, Test Accuracy: 0.4750\n",
      "Epoch 10/10, Loss: 1.2876, Train Accuracy: 0.4219, Test Accuracy: 0.4875\n",
      "----------------------------------------------------------------------------------------------------\n",
      "Вторая модель\n",
      "Epoch 1/10, Loss: 1.4161, Train Accuracy: 0.4594, Test Accuracy: 0.4500\n",
      "Epoch 2/10, Loss: 1.2723, Train Accuracy: 0.4938, Test Accuracy: 0.5500\n",
      "Epoch 3/10, Loss: 1.2215, Train Accuracy: 0.4969, Test Accuracy: 0.5625\n",
      "Epoch 4/10, Loss: 1.1886, Train Accuracy: 0.4969, Test Accuracy: 0.5625\n",
      "Epoch 5/10, Loss: 1.1505, Train Accuracy: 0.4969, Test Accuracy: 0.5625\n",
      "Epoch 6/10, Loss: 1.1185, Train Accuracy: 0.5250, Test Accuracy: 0.6000\n",
      "Epoch 7/10, Loss: 1.0885, Train Accuracy: 0.5437, Test Accuracy: 0.6375\n",
      "Epoch 8/10, Loss: 1.0626, Train Accuracy: 0.5437, Test Accuracy: 0.6375\n",
      "Epoch 9/10, Loss: 1.0361, Train Accuracy: 0.5875, Test Accuracy: 0.6875\n",
      "Epoch 10/10, Loss: 1.0116, Train Accuracy: 0.5969, Test Accuracy: 0.7250\n",
      "----------------------------------------------------------------------------------------------------\n",
      "Третья модель\n",
      "Epoch 1/10, Loss: 1.3154, Train Accuracy: 0.4594, Test Accuracy: 0.5500\n",
      "Epoch 2/10, Loss: 1.2386, Train Accuracy: 0.4625, Test Accuracy: 0.5000\n",
      "Epoch 3/10, Loss: 1.1642, Train Accuracy: 0.4688, Test Accuracy: 0.5000\n",
      "Epoch 4/10, Loss: 1.0744, Train Accuracy: 0.6000, Test Accuracy: 0.7000\n",
      "Epoch 5/10, Loss: 0.9853, Train Accuracy: 0.6375, Test Accuracy: 0.7250\n",
      "Epoch 6/10, Loss: 0.9050, Train Accuracy: 0.6781, Test Accuracy: 0.8000\n",
      "Epoch 7/10, Loss: 0.8397, Train Accuracy: 0.6469, Test Accuracy: 0.6625\n",
      "Epoch 8/10, Loss: 0.7621, Train Accuracy: 0.7406, Test Accuracy: 0.7875\n",
      "Epoch 9/10, Loss: 0.7023, Train Accuracy: 0.7312, Test Accuracy: 0.7750\n",
      "Epoch 10/10, Loss: 0.6752, Train Accuracy: 0.7188, Test Accuracy: 0.8000\n",
      "----------------------------------------------------------------------------------------------------\n"
     ]
    }
   ],
   "source": [
    "print(\"Первая модель\")\n",
    "train_losses_simple, test_losses_simple, train_acc_simple, test_acc_simple = train_model(\n",
    "    simple_nn, train_loader, test_loader, criterion, optimizer_sgd, epochs=10\n",
    ")\n",
    "print(\"-\"*100)\n",
    "print(\"Вторая модель\")\n",
    "train_losses_hidden, test_losses_hidden, train_acc_hidden, test_acc_hidden = train_model(\n",
    "    hidden_layer_nn, train_loader, test_loader, criterion, optimizer_adam, epochs=10\n",
    ")\n",
    "print(\"-\"*100)\n",
    "print(\"Третья модель\")\n",
    "train_losses_deep, test_losses_deep, train_acc_deep, test_acc_deep = train_model(\n",
    "    deep_nn, train_loader, test_loader, criterion, optimizer_adam_deep, epochs=10\n",
    ")\n",
    "print(\"-\"*100)"
   ]
  },
  {
   "cell_type": "code",
   "execution_count": 21,
   "metadata": {
    "execution": {
     "iopub.execute_input": "2024-10-27T16:25:10.951602Z",
     "iopub.status.busy": "2024-10-27T16:25:10.950964Z",
     "iopub.status.idle": "2024-10-27T16:25:11.631143Z",
     "shell.execute_reply": "2024-10-27T16:25:11.630044Z",
     "shell.execute_reply.started": "2024-10-27T16:25:10.951550Z"
    },
    "trusted": true
   },
   "outputs": [
    {
     "data": {
      "image/png": "[encoded data removed]",
      "text/plain": [
       "<Figure size 1200x500 with 2 Axes>"
      ]
     },
     "metadata": {},
     "output_type": "display_data"
    }
   ],
   "source": [
    "plt.figure(figsize=(12, 5))\n",
    "\n",
    "plt.subplot(1, 2, 1)\n",
    "plt.plot(train_losses_simple, label='Train Loss (SimpleNN)', color='blue')\n",
    "plt.plot(test_losses_simple, label='Test Loss (SimpleNN)', color='cyan')\n",
    "plt.plot(train_losses_hidden, label='Train Loss (HiddenLayerNN)', color='orange')\n",
    "plt.plot(test_losses_hidden, label='Test Loss (HiddenLayerNN)', color='yellow')\n",
    "plt.plot(train_losses_deep, label='Train Loss (DeepNN)', color='green')\n",
    "plt.plot(test_losses_deep, label='Test Loss (DeepNN)', color='lightgreen')\n",
    "plt.title('Loss Curve')\n",
    "plt.xlabel('Epochs')\n",
    "plt.ylabel('Loss')\n",
    "plt.legend()\n",
    "\n",
    "plt.subplot(1, 2, 2)\n",
    "plt.plot(train_acc_simple, label='Train Accuracy (SimpleNN)', color='blue')\n",
    "plt.plot(test_acc_simple, label='Test Accuracy (SimpleNN)', color='cyan')\n",
    "plt.plot(train_acc_hidden, label='Train Accuracy (HiddenLayerNN)', color='orange')\n",
    "plt.plot(test_acc_hidden, label='Test Accuracy (HiddenLayerNN)', color='yellow')\n",
    "plt.plot(train_acc_deep, label='Train Accuracy (DeepNN)', color='green')\n",
    "plt.plot(test_acc_deep, label='Test Accuracy (DeepNN)', color='lightgreen')\n",
    "plt.title('Accuracy Curve')\n",
    "plt.xlabel('Epochs')\n",
    "plt.ylabel('Accuracy')\n",
    "plt.legend()\n",
    "\n",
    "plt.tight_layout()\n",
    "plt.show()\n"
   ]
  },
  {
   "cell_type": "code",
   "execution_count": 22,
   "metadata": {},
   "outputs": [
    {
     "name": "stdout",
     "output_type": "stream",
     "text": [
      "\n",
      "Train and Test Accuracies:\n",
      "SimpleNN - Train Accuracy: 0.4219, Test Accuracy: 0.4875\n",
      "HiddenLayerNN - Train Accuracy: 0.5969, Test Accuracy: 0.7250\n",
      "DeepNN - Train Accuracy: 0.7188, Test Accuracy: 0.8000\n",
      "Лучшая модель: DeepNN\n",
      "Есть ли переобучение? Нет\n",
      "Есть ли недообучение? Нет\n"
     ]
    }
   ],
   "source": [
    "print(\"\\nTrain and Test Accuracies:\")\n",
    "print(\"SimpleNN - Train Accuracy: {:.4f}, Test Accuracy: {:.4f}\".format(train_acc_simple[-1], test_acc_simple[-1]))\n",
    "print(\"HiddenLayerNN - Train Accuracy: {:.4f}, Test Accuracy: {:.4f}\".format(train_acc_hidden[-1], test_acc_hidden[-1]))\n",
    "print(\"DeepNN - Train Accuracy: {:.4f}, Test Accuracy: {:.4f}\".format(train_acc_deep[-1], test_acc_deep[-1]))\n",
    "\n",
    "best_model = \"SimpleNN\" if test_acc_simple[-1] > test_acc_hidden[-1] and test_acc_simple[-1] > test_acc_deep[-1] else (\n",
    "    \"HiddenLayerNN\" if test_acc_hidden[-1] > test_acc_simple[-1] and test_acc_hidden[-1] > test_acc_deep[-1] else \"DeepNN\"\n",
    ")\n",
    "\n",
    "print(f\"Лучшая модель: {best_model}\")\n",
    "\n",
    "pereobucheniye = any(train_acc > test_acc for train_acc, test_acc in zip(train_acc_deep, test_acc_deep))\n",
    "print(f\"Есть ли переобучение? {'Да' if pereobucheniye else 'Нет'}\")\n",
    "\n",
    "nedoobucheniye = (max(train_acc_simple) < 0.7 and max(train_acc_hidden) < 0.7 and max(train_acc_deep) < 0.7)\n",
    "print(f\"Есть ли недообучение? {'Да' if nedoobucheniye else 'Нет'}\")"
   ]
  },
  {
   "cell_type": "markdown",
   "metadata": {},
   "source": [
    "### Чтобы улучшить метрики моделей, рассмотрите следующие стратегии:\n",
    "- Увеличьте количество скрытых слоев и/или единиц.\n",
    "- Экспериментируйте с различными функциями активации.\n",
    "- Применяйте техники регуляризации (регуляризация L1/L2, Dropout).\n",
    "- Используйте продвинутые оптимизаторы (например, AdamW) или планирование скорости обучения.\n",
    "- Соберите больше данных или расширьте существующий набор данных."
   ]
  }
 ],
 "metadata": {
  "kaggle": {
   "accelerator": "none",
   "dataSources": [
    {
     "datasetId": 5958560,
     "sourceId": 9735767,
     "sourceType": "datasetVersion"
    }
   ],
   "dockerImageVersionId": 30786,
   "isGpuEnabled": false,
   "isInternetEnabled": true,
   "language": "python",
   "sourceType": "notebook"
  },
  "kernelspec": {
   "display_name": "Python 3",
   "language": "python",
   "name": "python3"
  },
  "language_info": {
   "codemirror_mode": {
    "name": "ipython",
    "version": 3
   },
   "file_extension": ".py",
   "mimetype": "text/x-python",
   "name": "python",
   "nbconvert_exporter": "python",
   "pygments_lexer": "ipython3",
   "version": "3.12.0"
  }
 },
 "nbformat": 4,
 "nbformat_minor": 4
}
