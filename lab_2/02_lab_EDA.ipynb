{
 "cells": [
  {
   "cell_type": "markdown",
   "id": "bc9520d2",
   "metadata": {},
   "source": [
    "# Лабораторная работа №2\n",
    "\n",
    "ФИО:   Толабаев Минкаил Адамович\n",
    "Группа: БИВТ-22-СП-3\n",
    "\n",
    "Отправлять можно следующими способами:\n",
    "1. Запушить этот ноутбук в GitHub в репозиторий, где у вас лежат ноутбуки с лабами\n",
    "\n",
    "Deadlines:\n",
    "- Занятие №6 в семестре (Занятие №2 очное)\n",
    "\n",
    "Что необходимо сделать:  \n",
    "**В общих чертах просто провести EDA** (но обычно это не бывает просто)\n",
    "## Читайте задание внимательно\n",
    "\n",
    "Исходные данные:\n",
    "1. В [табличке](https://docs.google.com/spreadsheets/d/1k2MYXEp_OVQrink_XRC1PwoM0ZuNMeNz4VTWY7cI3hE/edit?usp=sharing) необходимо узнать название своего датасета \n",
    "2. Скачать нужны вам данные можно в [Google Drive](https://drive.google.com/drive/folders/1Phm-Fq1GL-VX7NS-DCEMRh_Fo1wU7DQ9?usp=sharing)\n",
    "  \n",
    "---\n",
    "Теперь по пунктам, что я от вас жду:  \n",
    "1. **Найти** в таблице (из исходных данных) название своего датасета\n",
    "2. **Описать** кратко постановку задачи, что от вас хотят. Какие есть переменные. Целевое событие непрерывно (предсказываем число от -$\\infty$ до $\\infty$) либо дискретно (предсказываем класс из конечного множества вариантов, например 0 или 1, или какое-то число в диапазоне [0; 10])\n",
    "3. Построить распределение целевой переменной в виде гистограммы, сделать промежуточные выводы (обратите внимание на однородоность распределения и возможный дисбаланс). Посчитайте количество уникальных значений целевой переменной.\n",
    "4. Выведите основные статистики по переменным в датасете (для этого есть готовый метод в pandas, он считает count, min, max, mean, 25%, 50% и пр.). Это делается **одним** методом (вы его знаете).\n",
    "5. Выведите основную информацию по датасету (сколько всего колонок, каких они типов, сколько в них non-null элементов). Это делается **одним** методом (вы его знаете).\n",
    "6. Посчитайте количество пропусков (NaN, Null, null, None) элементов во всех колонках. Предположите, почему эти пропуски могли возникнуть, и как их можно было бы заменить. \n",
    "7. Постройте гистограммы 5 любых признаков (из множества `X`, или как оно изначально у нас называется `data.data`). Если видите какое-то смещение, несимметричность и прочее, опишите это словами в ноутбуке.\n",
    "8. Постройте графики зависимости 5 любых (на ваш выбор) переменных от целевой переменной (если переменных меньше, чем 5, то сделайте столько, сколько получится). Сделайте вывод, можно ли использовать эти переменные для прогнозирования целевой переменной (иначе говоря, есть ли какая-то взаимосвязь между y-переменной и X-переменной)  \n",
    "9. _extra_ (необязательно). Посмотрите на зависимость двух переменных одновременно от целевой переменной. То есть по оси OX должна быть переменная $X_{n}$, по оси OY -- переменная $X_{k}$. И у вас будет две кривые (два облака точек) в разрезе целевой переменной. Либо вы можете построить похожее для категориальных признаков, но необходимо будет прочитать про heatmap. \n",
    "\n",
    "---\n",
    "P.S.  \n",
    "Просьба -- делать каждое задание в отдельных ячейках и с отдельными заголовками (как пункт 1 и 2 в этом ноутбуке) типа  \n",
    "- Заголовок\n",
    "- Ячейки с кодом\n",
    "- Другой заголовок\n",
    "- Другие ячейки с кодом"
   ]
  },
  {
   "cell_type": "markdown",
   "id": "28b51062",
   "metadata": {},
   "source": [
    "## 0. Пример импорта данных"
   ]
  },
  {
   "cell_type": "code",
   "execution_count": 78,
   "id": "81b49865",
   "metadata": {},
   "outputs": [],
   "source": [
    "import pandas as pd\n",
    "import matplotlib.pyplot as plt\n",
    "import seaborn as sns"
   ]
  },
  {
   "cell_type": "code",
   "execution_count": 79,
   "id": "406597a7",
   "metadata": {},
   "outputs": [],
   "source": [
    "data = pd.read_csv('JobSurveyIndia.csv')  "
   ]
  },
  {
   "cell_type": "code",
   "execution_count": 80,
   "id": "40ac3352",
   "metadata": {},
   "outputs": [
    {
     "data": {
      "text/html": [
       "<div>\n",
       "<style scoped>\n",
       "    .dataframe tbody tr th:only-of-type {\n",
       "        vertical-align: middle;\n",
       "    }\n",
       "\n",
       "    .dataframe tbody tr th {\n",
       "        vertical-align: top;\n",
       "    }\n",
       "\n",
       "    .dataframe thead th {\n",
       "        text-align: right;\n",
       "    }\n",
       "</style>\n",
       "<table border=\"1\" class=\"dataframe\">\n",
       "  <thead>\n",
       "    <tr style=\"text-align: right;\">\n",
       "      <th></th>\n",
       "      <th>Unnamed: 0</th>\n",
       "      <th>Employment Sector</th>\n",
       "      <th>Employment Background</th>\n",
       "      <th>Public Dealing</th>\n",
       "      <th>Degree</th>\n",
       "      <th>IdealNumberOfWorkdays</th>\n",
       "      <th>IdealYearlyIncome</th>\n",
       "    </tr>\n",
       "  </thead>\n",
       "  <tbody>\n",
       "    <tr>\n",
       "      <th>0</th>\n",
       "      <td>0</td>\n",
       "      <td>Private Sector</td>\n",
       "      <td>Technical</td>\n",
       "      <td>No</td>\n",
       "      <td>Yes</td>\n",
       "      <td>4.0</td>\n",
       "      <td>More Than 1500K</td>\n",
       "    </tr>\n",
       "    <tr>\n",
       "      <th>1</th>\n",
       "      <td>1</td>\n",
       "      <td>Private Sector</td>\n",
       "      <td>Art</td>\n",
       "      <td>No</td>\n",
       "      <td>Yes</td>\n",
       "      <td>4.0</td>\n",
       "      <td>600K-900K</td>\n",
       "    </tr>\n",
       "    <tr>\n",
       "      <th>2</th>\n",
       "      <td>2</td>\n",
       "      <td>Government Sector</td>\n",
       "      <td>Technical</td>\n",
       "      <td>No</td>\n",
       "      <td>Yes</td>\n",
       "      <td>6.0</td>\n",
       "      <td>900K-1200K</td>\n",
       "    </tr>\n",
       "  </tbody>\n",
       "</table>\n",
       "</div>"
      ],
      "text/plain": [
       "   Unnamed: 0  Employment Sector Employment Background Public Dealing Degree  \\\n",
       "0           0     Private Sector             Technical             No    Yes   \n",
       "1           1     Private Sector                  Art             No    Yes    \n",
       "2           2  Government Sector             Technical             No    Yes   \n",
       "\n",
       "   IdealNumberOfWorkdays IdealYearlyIncome  \n",
       "0                    4.0   More Than 1500K  \n",
       "1                    4.0         600K-900K  \n",
       "2                    6.0        900K-1200K  "
      ]
     },
     "execution_count": 80,
     "metadata": {},
     "output_type": "execute_result"
    }
   ],
   "source": [
    "data.head(3)"
   ]
  },
  {
   "cell_type": "code",
   "execution_count": 81,
   "id": "172eb865",
   "metadata": {},
   "outputs": [
    {
     "data": {
      "text/html": [
       "<div>\n",
       "<style scoped>\n",
       "    .dataframe tbody tr th:only-of-type {\n",
       "        vertical-align: middle;\n",
       "    }\n",
       "\n",
       "    .dataframe tbody tr th {\n",
       "        vertical-align: top;\n",
       "    }\n",
       "\n",
       "    .dataframe thead th {\n",
       "        text-align: right;\n",
       "    }\n",
       "</style>\n",
       "<table border=\"1\" class=\"dataframe\">\n",
       "  <thead>\n",
       "    <tr style=\"text-align: right;\">\n",
       "      <th></th>\n",
       "      <th>Unnamed: 0</th>\n",
       "      <th>Employment Sector</th>\n",
       "      <th>Employment Background</th>\n",
       "      <th>Public Dealing</th>\n",
       "      <th>Degree</th>\n",
       "      <th>IdealNumberOfWorkdays</th>\n",
       "      <th>IdealYearlyIncome</th>\n",
       "    </tr>\n",
       "  </thead>\n",
       "  <tbody>\n",
       "    <tr>\n",
       "      <th>397</th>\n",
       "      <td>397</td>\n",
       "      <td>Government Sector</td>\n",
       "      <td>Non-Technical</td>\n",
       "      <td>Yes</td>\n",
       "      <td>No</td>\n",
       "      <td>4.0</td>\n",
       "      <td>900K-1200K</td>\n",
       "    </tr>\n",
       "    <tr>\n",
       "      <th>398</th>\n",
       "      <td>398</td>\n",
       "      <td>Government Sector</td>\n",
       "      <td>Non-Technical</td>\n",
       "      <td>No</td>\n",
       "      <td>No</td>\n",
       "      <td>5.0</td>\n",
       "      <td>More Than 1500K</td>\n",
       "    </tr>\n",
       "    <tr>\n",
       "      <th>399</th>\n",
       "      <td>399</td>\n",
       "      <td>Entrepreneurship</td>\n",
       "      <td>Non-Technical</td>\n",
       "      <td>Yes</td>\n",
       "      <td>No</td>\n",
       "      <td>6.0</td>\n",
       "      <td>900K-1200K</td>\n",
       "    </tr>\n",
       "  </tbody>\n",
       "</table>\n",
       "</div>"
      ],
      "text/plain": [
       "     Unnamed: 0  Employment Sector Employment Background Public Dealing  \\\n",
       "397         397  Government Sector         Non-Technical            Yes   \n",
       "398         398  Government Sector         Non-Technical             No   \n",
       "399         399   Entrepreneurship         Non-Technical            Yes   \n",
       "\n",
       "    Degree  IdealNumberOfWorkdays IdealYearlyIncome  \n",
       "397     No                    4.0        900K-1200K  \n",
       "398     No                    5.0   More Than 1500K  \n",
       "399     No                    6.0        900K-1200K  "
      ]
     },
     "execution_count": 81,
     "metadata": {},
     "output_type": "execute_result"
    }
   ],
   "source": [
    "data.tail(3)"
   ]
  },
  {
   "cell_type": "code",
   "execution_count": 82,
   "id": "55305c49",
   "metadata": {},
   "outputs": [
    {
     "data": {
      "text/html": [
       "<div>\n",
       "<style scoped>\n",
       "    .dataframe tbody tr th:only-of-type {\n",
       "        vertical-align: middle;\n",
       "    }\n",
       "\n",
       "    .dataframe tbody tr th {\n",
       "        vertical-align: top;\n",
       "    }\n",
       "\n",
       "    .dataframe thead th {\n",
       "        text-align: right;\n",
       "    }\n",
       "</style>\n",
       "<table border=\"1\" class=\"dataframe\">\n",
       "  <thead>\n",
       "    <tr style=\"text-align: right;\">\n",
       "      <th></th>\n",
       "      <th>Unnamed: 0</th>\n",
       "      <th>Employment Sector</th>\n",
       "      <th>Employment Background</th>\n",
       "      <th>Public Dealing</th>\n",
       "      <th>Degree</th>\n",
       "      <th>IdealNumberOfWorkdays</th>\n",
       "      <th>IdealYearlyIncome</th>\n",
       "    </tr>\n",
       "  </thead>\n",
       "  <tbody>\n",
       "    <tr>\n",
       "      <th>0</th>\n",
       "      <td>0</td>\n",
       "      <td>Private Sector</td>\n",
       "      <td>Technical</td>\n",
       "      <td>No</td>\n",
       "      <td>Yes</td>\n",
       "      <td>4.0</td>\n",
       "      <td>More Than 1500K</td>\n",
       "    </tr>\n",
       "    <tr>\n",
       "      <th>1</th>\n",
       "      <td>1</td>\n",
       "      <td>Private Sector</td>\n",
       "      <td>Art</td>\n",
       "      <td>No</td>\n",
       "      <td>Yes</td>\n",
       "      <td>4.0</td>\n",
       "      <td>600K-900K</td>\n",
       "    </tr>\n",
       "    <tr>\n",
       "      <th>2</th>\n",
       "      <td>2</td>\n",
       "      <td>Government Sector</td>\n",
       "      <td>Technical</td>\n",
       "      <td>No</td>\n",
       "      <td>Yes</td>\n",
       "      <td>6.0</td>\n",
       "      <td>900K-1200K</td>\n",
       "    </tr>\n",
       "    <tr>\n",
       "      <th>3</th>\n",
       "      <td>3</td>\n",
       "      <td>Government Sector</td>\n",
       "      <td>Non-Technical</td>\n",
       "      <td>Yes</td>\n",
       "      <td>Yes</td>\n",
       "      <td>4.0</td>\n",
       "      <td>900K-1200K</td>\n",
       "    </tr>\n",
       "    <tr>\n",
       "      <th>4</th>\n",
       "      <td>4</td>\n",
       "      <td>Private Sector</td>\n",
       "      <td>Technical</td>\n",
       "      <td>No</td>\n",
       "      <td>Yes</td>\n",
       "      <td>5.0</td>\n",
       "      <td>1200K-1500K</td>\n",
       "    </tr>\n",
       "    <tr>\n",
       "      <th>...</th>\n",
       "      <td>...</td>\n",
       "      <td>...</td>\n",
       "      <td>...</td>\n",
       "      <td>...</td>\n",
       "      <td>...</td>\n",
       "      <td>...</td>\n",
       "      <td>...</td>\n",
       "    </tr>\n",
       "    <tr>\n",
       "      <th>395</th>\n",
       "      <td>395</td>\n",
       "      <td>Private Sector</td>\n",
       "      <td>Non-Technical</td>\n",
       "      <td>No</td>\n",
       "      <td>Yes</td>\n",
       "      <td>5.0</td>\n",
       "      <td>600K-900K</td>\n",
       "    </tr>\n",
       "    <tr>\n",
       "      <th>396</th>\n",
       "      <td>396</td>\n",
       "      <td>Government Sector</td>\n",
       "      <td>Non-Technical</td>\n",
       "      <td>Yes</td>\n",
       "      <td>No</td>\n",
       "      <td>4.0</td>\n",
       "      <td>900K-1200K</td>\n",
       "    </tr>\n",
       "    <tr>\n",
       "      <th>397</th>\n",
       "      <td>397</td>\n",
       "      <td>Government Sector</td>\n",
       "      <td>Non-Technical</td>\n",
       "      <td>Yes</td>\n",
       "      <td>No</td>\n",
       "      <td>4.0</td>\n",
       "      <td>900K-1200K</td>\n",
       "    </tr>\n",
       "    <tr>\n",
       "      <th>398</th>\n",
       "      <td>398</td>\n",
       "      <td>Government Sector</td>\n",
       "      <td>Non-Technical</td>\n",
       "      <td>No</td>\n",
       "      <td>No</td>\n",
       "      <td>5.0</td>\n",
       "      <td>More Than 1500K</td>\n",
       "    </tr>\n",
       "    <tr>\n",
       "      <th>399</th>\n",
       "      <td>399</td>\n",
       "      <td>Entrepreneurship</td>\n",
       "      <td>Non-Technical</td>\n",
       "      <td>Yes</td>\n",
       "      <td>No</td>\n",
       "      <td>6.0</td>\n",
       "      <td>900K-1200K</td>\n",
       "    </tr>\n",
       "  </tbody>\n",
       "</table>\n",
       "<p>400 rows × 7 columns</p>\n",
       "</div>"
      ],
      "text/plain": [
       "     Unnamed: 0  Employment Sector Employment Background Public Dealing  \\\n",
       "0             0     Private Sector             Technical             No   \n",
       "1             1     Private Sector                  Art             No    \n",
       "2             2  Government Sector             Technical             No   \n",
       "3             3  Government Sector         Non-Technical            Yes   \n",
       "4             4     Private Sector             Technical             No   \n",
       "..          ...                ...                   ...            ...   \n",
       "395         395     Private Sector         Non-Technical            No    \n",
       "396         396  Government Sector         Non-Technical            Yes   \n",
       "397         397  Government Sector         Non-Technical            Yes   \n",
       "398         398  Government Sector         Non-Technical             No   \n",
       "399         399   Entrepreneurship         Non-Technical            Yes   \n",
       "\n",
       "    Degree  IdealNumberOfWorkdays IdealYearlyIncome  \n",
       "0      Yes                    4.0   More Than 1500K  \n",
       "1     Yes                     4.0         600K-900K  \n",
       "2      Yes                    6.0        900K-1200K  \n",
       "3     Yes                     4.0        900K-1200K  \n",
       "4      Yes                    5.0       1200K-1500K  \n",
       "..     ...                    ...               ...  \n",
       "395   Yes                     5.0         600K-900K  \n",
       "396     No                    4.0        900K-1200K  \n",
       "397     No                    4.0        900K-1200K  \n",
       "398     No                    5.0   More Than 1500K  \n",
       "399     No                    6.0        900K-1200K  \n",
       "\n",
       "[400 rows x 7 columns]"
      ]
     },
     "execution_count": 82,
     "metadata": {},
     "output_type": "execute_result"
    }
   ],
   "source": [
    "data"
   ]
  },
  {
   "cell_type": "markdown",
   "id": "82ba1d19",
   "metadata": {},
   "source": [
    "### Колонки\n",
    "* Employment Sector: Сектор в котором сотрудник хотел бы работать.\n",
    "* Employment Background: Прошлая сфера работы сотрудника.\n",
    "* Public Dealing: Будет ли публичная деятельность проблемой для сотрудника.\n",
    "* Degree: Будет ли образование необходимо для идеального места работы сотрудника.\n",
    "* IdealNumberOfWorkdays: Идеальное количество рабочих дней в неделю.\n",
    "* IdealYearlyIncome: Идеальная зарплата за год."
   ]
  },
  {
   "cell_type": "markdown",
   "id": "0d119028",
   "metadata": {},
   "source": [
    "## 2. Описание постановки задачи"
   ]
  },
  {
   "cell_type": "markdown",
   "id": "312cf138",
   "metadata": {},
   "source": [
    "Проведем EDA.\n",
    "\n",
    "1. Распределение целевой переменной \n",
    "2. Основная информация по датасету\n",
    "3. Дополнительный анализ"
   ]
  },
  {
   "cell_type": "markdown",
   "id": "34931f43",
   "metadata": {},
   "source": [
    "## 3. Распределение целевой переменной\n"
   ]
  },
  {
   "cell_type": "code",
   "execution_count": 83,
   "id": "67a611d0",
   "metadata": {},
   "outputs": [],
   "source": [
    "Y = data['IdealYearlyIncome']\n",
    "X = data.drop('IdealYearlyIncome', axis=1)"
   ]
  },
  {
   "cell_type": "code",
   "execution_count": 84,
   "id": "91885613",
   "metadata": {},
   "outputs": [
    {
     "data": {
      "text/html": [
       "<div>\n",
       "<style scoped>\n",
       "    .dataframe tbody tr th:only-of-type {\n",
       "        vertical-align: middle;\n",
       "    }\n",
       "\n",
       "    .dataframe tbody tr th {\n",
       "        vertical-align: top;\n",
       "    }\n",
       "\n",
       "    .dataframe thead th {\n",
       "        text-align: right;\n",
       "    }\n",
       "</style>\n",
       "<table border=\"1\" class=\"dataframe\">\n",
       "  <thead>\n",
       "    <tr style=\"text-align: right;\">\n",
       "      <th></th>\n",
       "      <th>Unnamed: 0</th>\n",
       "      <th>Employment Sector</th>\n",
       "      <th>Employment Background</th>\n",
       "      <th>Public Dealing</th>\n",
       "      <th>Degree</th>\n",
       "      <th>IdealNumberOfWorkdays</th>\n",
       "    </tr>\n",
       "  </thead>\n",
       "  <tbody>\n",
       "    <tr>\n",
       "      <th>0</th>\n",
       "      <td>0</td>\n",
       "      <td>Private Sector</td>\n",
       "      <td>Technical</td>\n",
       "      <td>No</td>\n",
       "      <td>Yes</td>\n",
       "      <td>4.0</td>\n",
       "    </tr>\n",
       "    <tr>\n",
       "      <th>1</th>\n",
       "      <td>1</td>\n",
       "      <td>Private Sector</td>\n",
       "      <td>Art</td>\n",
       "      <td>No</td>\n",
       "      <td>Yes</td>\n",
       "      <td>4.0</td>\n",
       "    </tr>\n",
       "    <tr>\n",
       "      <th>2</th>\n",
       "      <td>2</td>\n",
       "      <td>Government Sector</td>\n",
       "      <td>Technical</td>\n",
       "      <td>No</td>\n",
       "      <td>Yes</td>\n",
       "      <td>6.0</td>\n",
       "    </tr>\n",
       "    <tr>\n",
       "      <th>3</th>\n",
       "      <td>3</td>\n",
       "      <td>Government Sector</td>\n",
       "      <td>Non-Technical</td>\n",
       "      <td>Yes</td>\n",
       "      <td>Yes</td>\n",
       "      <td>4.0</td>\n",
       "    </tr>\n",
       "    <tr>\n",
       "      <th>4</th>\n",
       "      <td>4</td>\n",
       "      <td>Private Sector</td>\n",
       "      <td>Technical</td>\n",
       "      <td>No</td>\n",
       "      <td>Yes</td>\n",
       "      <td>5.0</td>\n",
       "    </tr>\n",
       "    <tr>\n",
       "      <th>...</th>\n",
       "      <td>...</td>\n",
       "      <td>...</td>\n",
       "      <td>...</td>\n",
       "      <td>...</td>\n",
       "      <td>...</td>\n",
       "      <td>...</td>\n",
       "    </tr>\n",
       "    <tr>\n",
       "      <th>395</th>\n",
       "      <td>395</td>\n",
       "      <td>Private Sector</td>\n",
       "      <td>Non-Technical</td>\n",
       "      <td>No</td>\n",
       "      <td>Yes</td>\n",
       "      <td>5.0</td>\n",
       "    </tr>\n",
       "    <tr>\n",
       "      <th>396</th>\n",
       "      <td>396</td>\n",
       "      <td>Government Sector</td>\n",
       "      <td>Non-Technical</td>\n",
       "      <td>Yes</td>\n",
       "      <td>No</td>\n",
       "      <td>4.0</td>\n",
       "    </tr>\n",
       "    <tr>\n",
       "      <th>397</th>\n",
       "      <td>397</td>\n",
       "      <td>Government Sector</td>\n",
       "      <td>Non-Technical</td>\n",
       "      <td>Yes</td>\n",
       "      <td>No</td>\n",
       "      <td>4.0</td>\n",
       "    </tr>\n",
       "    <tr>\n",
       "      <th>398</th>\n",
       "      <td>398</td>\n",
       "      <td>Government Sector</td>\n",
       "      <td>Non-Technical</td>\n",
       "      <td>No</td>\n",
       "      <td>No</td>\n",
       "      <td>5.0</td>\n",
       "    </tr>\n",
       "    <tr>\n",
       "      <th>399</th>\n",
       "      <td>399</td>\n",
       "      <td>Entrepreneurship</td>\n",
       "      <td>Non-Technical</td>\n",
       "      <td>Yes</td>\n",
       "      <td>No</td>\n",
       "      <td>6.0</td>\n",
       "    </tr>\n",
       "  </tbody>\n",
       "</table>\n",
       "<p>400 rows × 6 columns</p>\n",
       "</div>"
      ],
      "text/plain": [
       "     Unnamed: 0  Employment Sector Employment Background Public Dealing  \\\n",
       "0             0     Private Sector             Technical             No   \n",
       "1             1     Private Sector                  Art             No    \n",
       "2             2  Government Sector             Technical             No   \n",
       "3             3  Government Sector         Non-Technical            Yes   \n",
       "4             4     Private Sector             Technical             No   \n",
       "..          ...                ...                   ...            ...   \n",
       "395         395     Private Sector         Non-Technical            No    \n",
       "396         396  Government Sector         Non-Technical            Yes   \n",
       "397         397  Government Sector         Non-Technical            Yes   \n",
       "398         398  Government Sector         Non-Technical             No   \n",
       "399         399   Entrepreneurship         Non-Technical            Yes   \n",
       "\n",
       "    Degree  IdealNumberOfWorkdays  \n",
       "0      Yes                    4.0  \n",
       "1     Yes                     4.0  \n",
       "2      Yes                    6.0  \n",
       "3     Yes                     4.0  \n",
       "4      Yes                    5.0  \n",
       "..     ...                    ...  \n",
       "395   Yes                     5.0  \n",
       "396     No                    4.0  \n",
       "397     No                    4.0  \n",
       "398     No                    5.0  \n",
       "399     No                    6.0  \n",
       "\n",
       "[400 rows x 6 columns]"
      ]
     },
     "execution_count": 84,
     "metadata": {},
     "output_type": "execute_result"
    }
   ],
   "source": [
    "X"
   ]
  },
  {
   "cell_type": "code",
   "execution_count": 85,
   "id": "e8a60ba0",
   "metadata": {},
   "outputs": [
    {
     "data": {
      "text/plain": [
       "0      More Than 1500K\n",
       "1            600K-900K\n",
       "2           900K-1200K\n",
       "3           900K-1200K\n",
       "4          1200K-1500K\n",
       "            ...       \n",
       "395          600K-900K\n",
       "396         900K-1200K\n",
       "397         900K-1200K\n",
       "398    More Than 1500K\n",
       "399         900K-1200K\n",
       "Name: IdealYearlyIncome, Length: 400, dtype: object"
      ]
     },
     "execution_count": 85,
     "metadata": {},
     "output_type": "execute_result"
    }
   ],
   "source": [
    "Y"
   ]
  },
  {
   "cell_type": "code",
   "execution_count": 86,
   "id": "4daac096",
   "metadata": {},
   "outputs": [],
   "source": [
    "income_order = ['600K-900K', '900K-1200K', '1200K-1500K', 'More Than 1500K']\n",
    "Y = pd.Categorical(Y, categories=income_order, ordered=True)"
   ]
  },
  {
   "cell_type": "code",
   "execution_count": 87,
   "id": "c2431d0c",
   "metadata": {},
   "outputs": [
    {
     "data": {
      "image/png": "[encoded data removed]",
      "text/plain": [
       "<Figure size 1000x600 with 1 Axes>"
      ]
     },
     "metadata": {},
     "output_type": "display_data"
    }
   ],
   "source": [
    "plt.figure(figsize=(10, 6))\n",
    "Y.value_counts().plot(kind='bar')\n",
    "plt.title('IdealYearlyIncome')\n",
    "plt.xlabel('Доход')\n",
    "plt.ylabel('Количество')\n",
    "plt.xticks(rotation=45)\n",
    "plt.show()"
   ]
  },
  {
   "cell_type": "markdown",
   "id": "d19a9553",
   "metadata": {},
   "source": [
    "## 4. Основные статистики\n"
   ]
  },
  {
   "cell_type": "code",
   "execution_count": 88,
   "id": "92b8fc76",
   "metadata": {},
   "outputs": [
    {
     "name": "stdout",
     "output_type": "stream",
     "text": [
      "<class 'pandas.core.frame.DataFrame'>\n",
      "RangeIndex: 400 entries, 0 to 399\n",
      "Data columns (total 7 columns):\n",
      " #   Column                 Non-Null Count  Dtype  \n",
      "---  ------                 --------------  -----  \n",
      " 0   Unnamed: 0             400 non-null    int64  \n",
      " 1   Employment Sector      400 non-null    object \n",
      " 2   Employment Background  400 non-null    object \n",
      " 3   Public Dealing         400 non-null    object \n",
      " 4   Degree                 400 non-null    object \n",
      " 5   IdealNumberOfWorkdays  400 non-null    float64\n",
      " 6   IdealYearlyIncome      400 non-null    object \n",
      "dtypes: float64(1), int64(1), object(5)\n",
      "memory usage: 22.0+ KB\n"
     ]
    }
   ],
   "source": [
    "data.info()"
   ]
  },
  {
   "cell_type": "code",
   "execution_count": 89,
   "id": "bd968d7b",
   "metadata": {},
   "outputs": [
    {
     "data": {
      "text/html": [
       "<div>\n",
       "<style scoped>\n",
       "    .dataframe tbody tr th:only-of-type {\n",
       "        vertical-align: middle;\n",
       "    }\n",
       "\n",
       "    .dataframe tbody tr th {\n",
       "        vertical-align: top;\n",
       "    }\n",
       "\n",
       "    .dataframe thead th {\n",
       "        text-align: right;\n",
       "    }\n",
       "</style>\n",
       "<table border=\"1\" class=\"dataframe\">\n",
       "  <thead>\n",
       "    <tr style=\"text-align: right;\">\n",
       "      <th></th>\n",
       "      <th>Unnamed: 0</th>\n",
       "      <th>IdealNumberOfWorkdays</th>\n",
       "    </tr>\n",
       "  </thead>\n",
       "  <tbody>\n",
       "    <tr>\n",
       "      <th>count</th>\n",
       "      <td>400.000000</td>\n",
       "      <td>400.000000</td>\n",
       "    </tr>\n",
       "    <tr>\n",
       "      <th>mean</th>\n",
       "      <td>199.500000</td>\n",
       "      <td>4.902500</td>\n",
       "    </tr>\n",
       "    <tr>\n",
       "      <th>std</th>\n",
       "      <td>115.614301</td>\n",
       "      <td>0.805989</td>\n",
       "    </tr>\n",
       "    <tr>\n",
       "      <th>min</th>\n",
       "      <td>0.000000</td>\n",
       "      <td>4.000000</td>\n",
       "    </tr>\n",
       "    <tr>\n",
       "      <th>25%</th>\n",
       "      <td>99.750000</td>\n",
       "      <td>4.000000</td>\n",
       "    </tr>\n",
       "    <tr>\n",
       "      <th>50%</th>\n",
       "      <td>199.500000</td>\n",
       "      <td>5.000000</td>\n",
       "    </tr>\n",
       "    <tr>\n",
       "      <th>75%</th>\n",
       "      <td>299.250000</td>\n",
       "      <td>5.000000</td>\n",
       "    </tr>\n",
       "    <tr>\n",
       "      <th>max</th>\n",
       "      <td>399.000000</td>\n",
       "      <td>7.000000</td>\n",
       "    </tr>\n",
       "  </tbody>\n",
       "</table>\n",
       "</div>"
      ],
      "text/plain": [
       "       Unnamed: 0  IdealNumberOfWorkdays\n",
       "count  400.000000             400.000000\n",
       "mean   199.500000               4.902500\n",
       "std    115.614301               0.805989\n",
       "min      0.000000               4.000000\n",
       "25%     99.750000               4.000000\n",
       "50%    199.500000               5.000000\n",
       "75%    299.250000               5.000000\n",
       "max    399.000000               7.000000"
      ]
     },
     "execution_count": 89,
     "metadata": {},
     "output_type": "execute_result"
    }
   ],
   "source": [
    "data.describe()"
   ]
  },
  {
   "cell_type": "markdown",
   "id": "35621975",
   "metadata": {},
   "source": [
    "## 5. Основная информация по датасету"
   ]
  },
  {
   "cell_type": "code",
   "execution_count": 90,
   "id": "96d8576b",
   "metadata": {},
   "outputs": [
    {
     "data": {
      "text/plain": [
       "7"
      ]
     },
     "execution_count": 90,
     "metadata": {},
     "output_type": "execute_result"
    }
   ],
   "source": [
    "len(data.columns)"
   ]
  },
  {
   "cell_type": "code",
   "execution_count": 91,
   "id": "5e3b57db",
   "metadata": {},
   "outputs": [
    {
     "data": {
      "text/plain": [
       "Unnamed: 0                 int64\n",
       "Employment Sector         object\n",
       "Employment Background     object\n",
       "Public Dealing            object\n",
       "Degree                    object\n",
       "IdealNumberOfWorkdays    float64\n",
       "IdealYearlyIncome         object\n",
       "dtype: object"
      ]
     },
     "execution_count": 91,
     "metadata": {},
     "output_type": "execute_result"
    }
   ],
   "source": [
    "data.dtypes "
   ]
  },
  {
   "cell_type": "markdown",
   "id": "054d11b6",
   "metadata": {},
   "source": [
    "### Преобразрвание данных в str"
   ]
  },
  {
   "cell_type": "code",
   "execution_count": 92,
   "id": "00bcc050",
   "metadata": {},
   "outputs": [],
   "source": [
    "data[\"Public Dealing\"] = data[\"Public Dealing\"].astype(str)\n",
    "data[\"Employment Sector\"] = data[\"Employment Sector\"].astype(str)\n",
    "data[\"Employment Background\"] = data[\"Employment Sector\"].astype(str)\n",
    "data[\"Degree\"] = data[\"Degree\"].astype(str)"
   ]
  },
  {
   "cell_type": "markdown",
   "id": "6566a36b",
   "metadata": {},
   "source": [
    "## 6. Количество пропусков"
   ]
  },
  {
   "cell_type": "code",
   "execution_count": 93,
   "id": "eaa7284d",
   "metadata": {},
   "outputs": [
    {
     "data": {
      "text/plain": [
       "Unnamed: 0               0\n",
       "Employment Sector        0\n",
       "Employment Background    0\n",
       "Public Dealing           0\n",
       "Degree                   0\n",
       "IdealNumberOfWorkdays    0\n",
       "IdealYearlyIncome        0\n",
       "dtype: int64"
      ]
     },
     "execution_count": 93,
     "metadata": {},
     "output_type": "execute_result"
    }
   ],
   "source": [
    "data.isna().sum() "
   ]
  },
  {
   "cell_type": "code",
   "execution_count": 94,
   "id": "5f72b90b",
   "metadata": {},
   "outputs": [
    {
     "data": {
      "text/html": [
       "<div>\n",
       "<style scoped>\n",
       "    .dataframe tbody tr th:only-of-type {\n",
       "        vertical-align: middle;\n",
       "    }\n",
       "\n",
       "    .dataframe tbody tr th {\n",
       "        vertical-align: top;\n",
       "    }\n",
       "\n",
       "    .dataframe thead th {\n",
       "        text-align: right;\n",
       "    }\n",
       "</style>\n",
       "<table border=\"1\" class=\"dataframe\">\n",
       "  <thead>\n",
       "    <tr style=\"text-align: right;\">\n",
       "      <th></th>\n",
       "      <th>Unnamed: 0</th>\n",
       "      <th>Employment Sector</th>\n",
       "      <th>Employment Background</th>\n",
       "      <th>Public Dealing</th>\n",
       "      <th>Degree</th>\n",
       "      <th>IdealNumberOfWorkdays</th>\n",
       "      <th>IdealYearlyIncome</th>\n",
       "    </tr>\n",
       "  </thead>\n",
       "  <tbody>\n",
       "    <tr>\n",
       "      <th>0</th>\n",
       "      <td>0</td>\n",
       "      <td>Private Sector</td>\n",
       "      <td>Private Sector</td>\n",
       "      <td>No</td>\n",
       "      <td>Yes</td>\n",
       "      <td>4.0</td>\n",
       "      <td>More Than 1500K</td>\n",
       "    </tr>\n",
       "    <tr>\n",
       "      <th>1</th>\n",
       "      <td>1</td>\n",
       "      <td>Private Sector</td>\n",
       "      <td>Private Sector</td>\n",
       "      <td>No</td>\n",
       "      <td>Yes</td>\n",
       "      <td>4.0</td>\n",
       "      <td>600K-900K</td>\n",
       "    </tr>\n",
       "    <tr>\n",
       "      <th>2</th>\n",
       "      <td>2</td>\n",
       "      <td>Government Sector</td>\n",
       "      <td>Government Sector</td>\n",
       "      <td>No</td>\n",
       "      <td>Yes</td>\n",
       "      <td>6.0</td>\n",
       "      <td>900K-1200K</td>\n",
       "    </tr>\n",
       "    <tr>\n",
       "      <th>3</th>\n",
       "      <td>3</td>\n",
       "      <td>Government Sector</td>\n",
       "      <td>Government Sector</td>\n",
       "      <td>Yes</td>\n",
       "      <td>Yes</td>\n",
       "      <td>4.0</td>\n",
       "      <td>900K-1200K</td>\n",
       "    </tr>\n",
       "    <tr>\n",
       "      <th>4</th>\n",
       "      <td>4</td>\n",
       "      <td>Private Sector</td>\n",
       "      <td>Private Sector</td>\n",
       "      <td>No</td>\n",
       "      <td>Yes</td>\n",
       "      <td>5.0</td>\n",
       "      <td>1200K-1500K</td>\n",
       "    </tr>\n",
       "  </tbody>\n",
       "</table>\n",
       "</div>"
      ],
      "text/plain": [
       "   Unnamed: 0  Employment Sector Employment Background Public Dealing Degree  \\\n",
       "0           0     Private Sector        Private Sector             No    Yes   \n",
       "1           1     Private Sector        Private Sector            No    Yes    \n",
       "2           2  Government Sector     Government Sector             No    Yes   \n",
       "3           3  Government Sector     Government Sector            Yes   Yes    \n",
       "4           4     Private Sector        Private Sector             No    Yes   \n",
       "\n",
       "   IdealNumberOfWorkdays IdealYearlyIncome  \n",
       "0                    4.0   More Than 1500K  \n",
       "1                    4.0         600K-900K  \n",
       "2                    6.0        900K-1200K  \n",
       "3                    4.0        900K-1200K  \n",
       "4                    5.0       1200K-1500K  "
      ]
     },
     "execution_count": 94,
     "metadata": {},
     "output_type": "execute_result"
    }
   ],
   "source": [
    "data.head()"
   ]
  },
  {
   "cell_type": "markdown",
   "id": "452f9732",
   "metadata": {},
   "source": [
    "## 7. Гистограммы 5 признаков датасета"
   ]
  },
  {
   "cell_type": "code",
   "execution_count": 95,
   "id": "d70fcdac",
   "metadata": {},
   "outputs": [
    {
     "data": {
      "text/html": [
       "<div>\n",
       "<style scoped>\n",
       "    .dataframe tbody tr th:only-of-type {\n",
       "        vertical-align: middle;\n",
       "    }\n",
       "\n",
       "    .dataframe tbody tr th {\n",
       "        vertical-align: top;\n",
       "    }\n",
       "\n",
       "    .dataframe thead th {\n",
       "        text-align: right;\n",
       "    }\n",
       "</style>\n",
       "<table border=\"1\" class=\"dataframe\">\n",
       "  <thead>\n",
       "    <tr style=\"text-align: right;\">\n",
       "      <th></th>\n",
       "      <th>Unnamed: 0</th>\n",
       "      <th>Employment Sector</th>\n",
       "      <th>Employment Background</th>\n",
       "      <th>Public Dealing</th>\n",
       "      <th>Degree</th>\n",
       "      <th>IdealNumberOfWorkdays</th>\n",
       "      <th>IdealYearlyIncome</th>\n",
       "    </tr>\n",
       "  </thead>\n",
       "  <tbody>\n",
       "    <tr>\n",
       "      <th>0</th>\n",
       "      <td>0</td>\n",
       "      <td>Private Sector</td>\n",
       "      <td>Private Sector</td>\n",
       "      <td>No</td>\n",
       "      <td>Yes</td>\n",
       "      <td>4.0</td>\n",
       "      <td>More Than 1500K</td>\n",
       "    </tr>\n",
       "    <tr>\n",
       "      <th>1</th>\n",
       "      <td>1</td>\n",
       "      <td>Private Sector</td>\n",
       "      <td>Private Sector</td>\n",
       "      <td>No</td>\n",
       "      <td>Yes</td>\n",
       "      <td>4.0</td>\n",
       "      <td>600K-900K</td>\n",
       "    </tr>\n",
       "    <tr>\n",
       "      <th>2</th>\n",
       "      <td>2</td>\n",
       "      <td>Government Sector</td>\n",
       "      <td>Government Sector</td>\n",
       "      <td>No</td>\n",
       "      <td>Yes</td>\n",
       "      <td>6.0</td>\n",
       "      <td>900K-1200K</td>\n",
       "    </tr>\n",
       "    <tr>\n",
       "      <th>3</th>\n",
       "      <td>3</td>\n",
       "      <td>Government Sector</td>\n",
       "      <td>Government Sector</td>\n",
       "      <td>Yes</td>\n",
       "      <td>Yes</td>\n",
       "      <td>4.0</td>\n",
       "      <td>900K-1200K</td>\n",
       "    </tr>\n",
       "    <tr>\n",
       "      <th>4</th>\n",
       "      <td>4</td>\n",
       "      <td>Private Sector</td>\n",
       "      <td>Private Sector</td>\n",
       "      <td>No</td>\n",
       "      <td>Yes</td>\n",
       "      <td>5.0</td>\n",
       "      <td>1200K-1500K</td>\n",
       "    </tr>\n",
       "    <tr>\n",
       "      <th>...</th>\n",
       "      <td>...</td>\n",
       "      <td>...</td>\n",
       "      <td>...</td>\n",
       "      <td>...</td>\n",
       "      <td>...</td>\n",
       "      <td>...</td>\n",
       "      <td>...</td>\n",
       "    </tr>\n",
       "    <tr>\n",
       "      <th>395</th>\n",
       "      <td>395</td>\n",
       "      <td>Private Sector</td>\n",
       "      <td>Private Sector</td>\n",
       "      <td>No</td>\n",
       "      <td>Yes</td>\n",
       "      <td>5.0</td>\n",
       "      <td>600K-900K</td>\n",
       "    </tr>\n",
       "    <tr>\n",
       "      <th>396</th>\n",
       "      <td>396</td>\n",
       "      <td>Government Sector</td>\n",
       "      <td>Government Sector</td>\n",
       "      <td>Yes</td>\n",
       "      <td>No</td>\n",
       "      <td>4.0</td>\n",
       "      <td>900K-1200K</td>\n",
       "    </tr>\n",
       "    <tr>\n",
       "      <th>397</th>\n",
       "      <td>397</td>\n",
       "      <td>Government Sector</td>\n",
       "      <td>Government Sector</td>\n",
       "      <td>Yes</td>\n",
       "      <td>No</td>\n",
       "      <td>4.0</td>\n",
       "      <td>900K-1200K</td>\n",
       "    </tr>\n",
       "    <tr>\n",
       "      <th>398</th>\n",
       "      <td>398</td>\n",
       "      <td>Government Sector</td>\n",
       "      <td>Government Sector</td>\n",
       "      <td>No</td>\n",
       "      <td>No</td>\n",
       "      <td>5.0</td>\n",
       "      <td>More Than 1500K</td>\n",
       "    </tr>\n",
       "    <tr>\n",
       "      <th>399</th>\n",
       "      <td>399</td>\n",
       "      <td>Entrepreneurship</td>\n",
       "      <td>Entrepreneurship</td>\n",
       "      <td>Yes</td>\n",
       "      <td>No</td>\n",
       "      <td>6.0</td>\n",
       "      <td>900K-1200K</td>\n",
       "    </tr>\n",
       "  </tbody>\n",
       "</table>\n",
       "<p>400 rows × 7 columns</p>\n",
       "</div>"
      ],
      "text/plain": [
       "     Unnamed: 0  Employment Sector Employment Background Public Dealing  \\\n",
       "0             0     Private Sector        Private Sector             No   \n",
       "1             1     Private Sector        Private Sector            No    \n",
       "2             2  Government Sector     Government Sector             No   \n",
       "3             3  Government Sector     Government Sector            Yes   \n",
       "4             4     Private Sector        Private Sector             No   \n",
       "..          ...                ...                   ...            ...   \n",
       "395         395     Private Sector        Private Sector            No    \n",
       "396         396  Government Sector     Government Sector            Yes   \n",
       "397         397  Government Sector     Government Sector            Yes   \n",
       "398         398  Government Sector     Government Sector             No   \n",
       "399         399   Entrepreneurship      Entrepreneurship            Yes   \n",
       "\n",
       "    Degree  IdealNumberOfWorkdays IdealYearlyIncome  \n",
       "0      Yes                    4.0   More Than 1500K  \n",
       "1     Yes                     4.0         600K-900K  \n",
       "2      Yes                    6.0        900K-1200K  \n",
       "3     Yes                     4.0        900K-1200K  \n",
       "4      Yes                    5.0       1200K-1500K  \n",
       "..     ...                    ...               ...  \n",
       "395   Yes                     5.0         600K-900K  \n",
       "396     No                    4.0        900K-1200K  \n",
       "397     No                    4.0        900K-1200K  \n",
       "398     No                    5.0   More Than 1500K  \n",
       "399     No                    6.0        900K-1200K  \n",
       "\n",
       "[400 rows x 7 columns]"
      ]
     },
     "execution_count": 95,
     "metadata": {},
     "output_type": "execute_result"
    }
   ],
   "source": [
    "data"
   ]
  },
  {
   "cell_type": "code",
   "execution_count": 96,
   "id": "a16e1c00",
   "metadata": {},
   "outputs": [],
   "source": [
    "features = ['Degree', 'Employment Background', 'Employment Sector', 'Public Dealing', 'IdealNumberOfWorkdays']"
   ]
  },
  {
   "cell_type": "markdown",
   "id": "30f561d1",
   "metadata": {},
   "source": [
    "### Преобразование данных в Data\n"
   ]
  },
  {
   "cell_type": "code",
   "execution_count": 103,
   "id": "8338b8bb",
   "metadata": {},
   "outputs": [],
   "source": [
    "data['Degree'] = data['Degree'].str.strip()\n",
    "data['Employment Background'] = data['Employment Background'].str.strip()\n",
    "data['Public Dealing'] = data['Public Dealing'].replace({'No ': 'No'})"
   ]
  },
  {
   "cell_type": "code",
   "execution_count": 104,
   "id": "10d36e3a",
   "metadata": {},
   "outputs": [
    {
     "name": "stdout",
     "output_type": "stream",
     "text": [
      "['Yes' 'No']\n",
      "\n",
      "['Technical' 'Art' 'Non-Technical']\n",
      "\n",
      "['Private Sector' 'Government Sector' 'Entrepreneurship']\n",
      "\n",
      "['No' 'Yes']\n",
      "\n",
      "[4. 6. 5. 7.]\n",
      "\n"
     ]
    }
   ],
   "source": [
    "for feature in features:\n",
    "    print(f\"{X[feature].unique()}\\n\")"
   ]
  },
  {
   "cell_type": "markdown",
   "id": "1f50c74c",
   "metadata": {},
   "source": [
    "### Преобразование данных в X\n"
   ]
  },
  {
   "cell_type": "code",
   "execution_count": 108,
   "id": "5be70e34",
   "metadata": {},
   "outputs": [
    {
     "name": "stdout",
     "output_type": "stream",
     "text": [
      "['Yes' 'No']\n",
      "\n",
      "['Technical' 'Art' 'Non-Technical']\n",
      "\n",
      "['Private Sector' 'Government Sector' 'Entrepreneurship']\n",
      "\n",
      "['No' 'Yes']\n",
      "\n",
      "[4. 6. 5. 7.]\n",
      "\n"
     ]
    }
   ],
   "source": [
    "for feature in features:\n",
    "    print(f\"{X[feature].unique()}\\n\")"
   ]
  },
  {
   "cell_type": "code",
   "execution_count": 105,
   "id": "3d6fcbbb",
   "metadata": {},
   "outputs": [],
   "source": [
    "X['Degree'] = X['Degree'].str.strip()\n",
    "X['Employment Background'] = X['Employment Background'].str.strip()\n",
    "X['Public Dealing'] = X['Public Dealing'].replace({'No ': 'No'})"
   ]
  },
  {
   "cell_type": "code",
   "execution_count": 106,
   "id": "21c9bb68",
   "metadata": {},
   "outputs": [
    {
     "data": {
      "image/png": "[encoded data removed]",
      "text/plain": [
       "<Figure size 1500x1000 with 5 Axes>"
      ]
     },
     "metadata": {},
     "output_type": "display_data"
    }
   ],
   "source": [
    "fig, axs = plt.subplots(2, 3, figsize=(15, 10))\n",
    "axs = axs.ravel()\n",
    "\n",
    "for i, feature in enumerate(features):\n",
    "   X[feature].hist(ax=axs[i])\n",
    "   axs[i].set_title(feature)\n",
    "   axs[i].tick_params(axis='x')\n",
    "\n",
    "axs[5].remove()\n",
    "plt.tight_layout()\n",
    "plt.show()"
   ]
  },
  {
   "cell_type": "markdown",
   "id": "419f9d20",
   "metadata": {},
   "source": [
    "## 8. Графики зависимости 5 переменных от целевой"
   ]
  },
  {
   "cell_type": "code",
   "execution_count": 107,
   "id": "a56c4571",
   "metadata": {},
   "outputs": [
    {
     "data": {
      "image/png": "[encoded data removed]",
      "text/plain": [
       "<Figure size 1500x1000 with 5 Axes>"
      ]
     },
     "metadata": {},
     "output_type": "display_data"
    }
   ],
   "source": [
    "fig, axes = plt.subplots(2, 3, figsize=(15, 10))\n",
    "axes = axes.flatten()\n",
    "\n",
    "for i, feature in enumerate(features):\n",
    "   sns.boxplot(data=data, x=feature, y=Y, ax=axes[i])\n",
    "   axes[i].set_title(f'{feature} & IdealYearlyIncome')\n",
    "   axes[i].tick_params(axis='x', rotation=45)\n",
    "\n",
    "axes[5].remove()\n",
    "plt.tight_layout()\n",
    "plt.show()"
   ]
  }
 ],
 "metadata": {
  "kernelspec": {
   "display_name": "Python 3",
   "language": "python",
   "name": "python3"
  },
  "language_info": {
   "codemirror_mode": {
    "name": "ipython",
    "version": 3
   },
   "file_extension": ".py",
   "mimetype": "text/x-python",
   "name": "python",
   "nbconvert_exporter": "python",
   "pygments_lexer": "ipython3",
   "version": "3.12.0"
  }
 },
 "nbformat": 4,
 "nbformat_minor": 5
}
